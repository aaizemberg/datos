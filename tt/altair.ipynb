{
 "cells": [
  {
   "cell_type": "code",
   "execution_count": 3,
   "metadata": {},
   "outputs": [],
   "source": [
    "import pandas as pd"
   ]
  },
  {
   "cell_type": "code",
   "execution_count": 4,
   "metadata": {},
   "outputs": [],
   "source": [
    "df = pd.read_csv(\"aa_tmt.tsv\", sep=\"\\t\")"
   ]
  },
  {
   "cell_type": "code",
   "execution_count": 5,
   "metadata": {},
   "outputs": [
    {
     "data": {
      "text/html": [
       "<div>\n",
       "<style scoped>\n",
       "    .dataframe tbody tr th:only-of-type {\n",
       "        vertical-align: middle;\n",
       "    }\n",
       "\n",
       "    .dataframe tbody tr th {\n",
       "        vertical-align: top;\n",
       "    }\n",
       "\n",
       "    .dataframe thead th {\n",
       "        text-align: right;\n",
       "    }\n",
       "</style>\n",
       "<table border=\"1\" class=\"dataframe\">\n",
       "  <thead>\n",
       "    <tr style=\"text-align: right;\">\n",
       "      <th></th>\n",
       "      <th>fecha</th>\n",
       "      <th>donde</th>\n",
       "      <th>variacion</th>\n",
       "      <th>rating</th>\n",
       "    </tr>\n",
       "  </thead>\n",
       "  <tbody>\n",
       "    <tr>\n",
       "      <th>0</th>\n",
       "      <td>2017-06-20</td>\n",
       "      <td>119º Torneo Nichia Gakuin</td>\n",
       "      <td>50</td>\n",
       "      <td>1600</td>\n",
       "    </tr>\n",
       "    <tr>\n",
       "      <th>1</th>\n",
       "      <td>2017-06-25</td>\n",
       "      <td>78º Torneo Donic Fénix Devoto</td>\n",
       "      <td>-16</td>\n",
       "      <td>1584</td>\n",
       "    </tr>\n",
       "    <tr>\n",
       "      <th>2</th>\n",
       "      <td>2017-07-03</td>\n",
       "      <td>59º Torneo MTM's San Cristobal</td>\n",
       "      <td>17</td>\n",
       "      <td>1601</td>\n",
       "    </tr>\n",
       "    <tr>\n",
       "      <th>3</th>\n",
       "      <td>2017-07-08</td>\n",
       "      <td>40º Torneo River Monumental</td>\n",
       "      <td>33</td>\n",
       "      <td>1634</td>\n",
       "    </tr>\n",
       "    <tr>\n",
       "      <th>4</th>\n",
       "      <td>2017-07-23</td>\n",
       "      <td>134º Torneo Butterfly Ciudad de Vicente López</td>\n",
       "      <td>4</td>\n",
       "      <td>1638</td>\n",
       "    </tr>\n",
       "  </tbody>\n",
       "</table>\n",
       "</div>"
      ],
      "text/plain": [
       "        fecha                                           donde  variacion  \\\n",
       "0  2017-06-20                       119º Torneo Nichia Gakuin         50   \n",
       "1  2017-06-25                   78º Torneo Donic Fénix Devoto        -16   \n",
       "2  2017-07-03                  59º Torneo MTM's San Cristobal         17   \n",
       "3  2017-07-08                     40º Torneo River Monumental         33   \n",
       "4  2017-07-23  134º Torneo Butterfly Ciudad de Vicente López           4   \n",
       "\n",
       "   rating  \n",
       "0    1600  \n",
       "1    1584  \n",
       "2    1601  \n",
       "3    1634  \n",
       "4    1638  "
      ]
     },
     "execution_count": 5,
     "metadata": {},
     "output_type": "execute_result"
    }
   ],
   "source": [
    "df.head()"
   ]
  },
  {
   "cell_type": "code",
   "execution_count": 6,
   "metadata": {},
   "outputs": [],
   "source": [
    "import altair as alt"
   ]
  },
  {
   "cell_type": "code",
   "execution_count": 11,
   "metadata": {},
   "outputs": [
    {
     "data": {
      "text/html": [
       "\n",
       "<style>\n",
       "  #altair-viz-35e659eb452c4448958a3fb4db1b4254.vega-embed {\n",
       "    width: 100%;\n",
       "    display: flex;\n",
       "  }\n",
       "\n",
       "  #altair-viz-35e659eb452c4448958a3fb4db1b4254.vega-embed details,\n",
       "  #altair-viz-35e659eb452c4448958a3fb4db1b4254.vega-embed details summary {\n",
       "    position: relative;\n",
       "  }\n",
       "</style>\n",
       "<div id=\"altair-viz-35e659eb452c4448958a3fb4db1b4254\"></div>\n",
       "<script type=\"text/javascript\">\n",
       "  var VEGA_DEBUG = (typeof VEGA_DEBUG == \"undefined\") ? {} : VEGA_DEBUG;\n",
       "  (function(spec, embedOpt){\n",
       "    let outputDiv = document.currentScript.previousElementSibling;\n",
       "    if (outputDiv.id !== \"altair-viz-35e659eb452c4448958a3fb4db1b4254\") {\n",
       "      outputDiv = document.getElementById(\"altair-viz-35e659eb452c4448958a3fb4db1b4254\");\n",
       "    }\n",
       "    const paths = {\n",
       "      \"vega\": \"https://cdn.jsdelivr.net/npm/vega@5?noext\",\n",
       "      \"vega-lib\": \"https://cdn.jsdelivr.net/npm/vega-lib?noext\",\n",
       "      \"vega-lite\": \"https://cdn.jsdelivr.net/npm/vega-lite@5.16.3?noext\",\n",
       "      \"vega-embed\": \"https://cdn.jsdelivr.net/npm/vega-embed@6?noext\",\n",
       "    };\n",
       "\n",
       "    function maybeLoadScript(lib, version) {\n",
       "      var key = `${lib.replace(\"-\", \"\")}_version`;\n",
       "      return (VEGA_DEBUG[key] == version) ?\n",
       "        Promise.resolve(paths[lib]) :\n",
       "        new Promise(function(resolve, reject) {\n",
       "          var s = document.createElement('script');\n",
       "          document.getElementsByTagName(\"head\")[0].appendChild(s);\n",
       "          s.async = true;\n",
       "          s.onload = () => {\n",
       "            VEGA_DEBUG[key] = version;\n",
       "            return resolve(paths[lib]);\n",
       "          };\n",
       "          s.onerror = () => reject(`Error loading script: ${paths[lib]}`);\n",
       "          s.src = paths[lib];\n",
       "        });\n",
       "    }\n",
       "\n",
       "    function showError(err) {\n",
       "      outputDiv.innerHTML = `<div class=\"error\" style=\"color:red;\">${err}</div>`;\n",
       "      throw err;\n",
       "    }\n",
       "\n",
       "    function displayChart(vegaEmbed) {\n",
       "      vegaEmbed(outputDiv, spec, embedOpt)\n",
       "        .catch(err => showError(`Javascript Error: ${err.message}<br>This usually means there's a typo in your chart specification. See the javascript console for the full traceback.`));\n",
       "    }\n",
       "\n",
       "    if(typeof define === \"function\" && define.amd) {\n",
       "      requirejs.config({paths});\n",
       "      require([\"vega-embed\"], displayChart, err => showError(`Error loading script: ${err.message}`));\n",
       "    } else {\n",
       "      maybeLoadScript(\"vega\", \"5\")\n",
       "        .then(() => maybeLoadScript(\"vega-lite\", \"5.16.3\"))\n",
       "        .then(() => maybeLoadScript(\"vega-embed\", \"6\"))\n",
       "        .catch(showError)\n",
       "        .then(() => displayChart(vegaEmbed));\n",
       "    }\n",
       "  })({\"config\": {\"view\": {\"continuousWidth\": 300, \"continuousHeight\": 300}}, \"data\": {\"name\": \"data-81e96bfe35ac84bd41e59400ccca597a\"}, \"mark\": {\"type\": \"line\"}, \"encoding\": {\"x\": {\"field\": \"fecha\", \"type\": \"temporal\"}, \"y\": {\"field\": \"rating\", \"scale\": {\"zero\": false}, \"type\": \"quantitative\"}}, \"$schema\": \"https://vega.github.io/schema/vega-lite/v5.16.3.json\", \"datasets\": {\"data-81e96bfe35ac84bd41e59400ccca597a\": [{\"fecha\": \"2017-06-20\", \"donde\": \"119\\u00ba Torneo Nichia Gakuin\", \"variacion\": 50, \"rating\": 1600}, {\"fecha\": \"2017-06-25\", \"donde\": \"78\\u00ba Torneo Donic F\\u00e9nix Devoto\", \"variacion\": -16, \"rating\": 1584}, {\"fecha\": \"2017-07-03\", \"donde\": \"59\\u00ba Torneo MTM's San Cristobal\", \"variacion\": 17, \"rating\": 1601}, {\"fecha\": \"2017-07-08\", \"donde\": \"40\\u00ba Torneo River Monumental\", \"variacion\": 33, \"rating\": 1634}, {\"fecha\": \"2017-07-23\", \"donde\": \"134\\u00ba Torneo Butterfly Ciudad de Vicente L\\u00f3pez \", \"variacion\": 4, \"rating\": 1638}, {\"fecha\": \"2017-08-06\", \"donde\": \"8\\u00ba Torneo La Legi\\u00f3n Tenis de Mesa\", \"variacion\": 29, \"rating\": 1667}, {\"fecha\": \"2017-08-20\", \"donde\": \"34\\u00ba Torneo Nikkei Sede Vicente Lopez \", \"variacion\": 12, \"rating\": 1679}, {\"fecha\": \"2017-08-26\", \"donde\": \"41\\u00ba Torneo River Monumental\", \"variacion\": -33, \"rating\": 1646}, {\"fecha\": \"2017-09-02\", \"donde\": \"64\\u00ba Torneo Ferrocarril Oeste \\u2013 Butterfly DHS\", \"variacion\": 11, \"rating\": 1657}, {\"fecha\": \"2017-09-17\", \"donde\": \"35\\u00ba Torneo Nikkei Sede Vicente Lopez \", \"variacion\": -1, \"rating\": 1656}, {\"fecha\": \"2017-09-22\", \"donde\": \"91\\u00ba Torneo Instituto Compa\\u00f1\\u00eda de Mar\\u00eda\", \"variacion\": 20, \"rating\": 1676}, {\"fecha\": \"2017-10-08\", \"donde\": \"123\\u00ba Torneo Nichia Gakuin\", \"variacion\": -5, \"rating\": 1671}, {\"fecha\": \"2017-11-19\", \"donde\": \"66\\u00ba Torneo Ferrocarril Oeste \\u2013 Butterfly DHS\", \"variacion\": 7, \"rating\": 1678}, {\"fecha\": \"2017-12-22\", \"donde\": \"95\\u00ba Torneo Instituto Compa\\u00f1\\u00eda de Mar\\u00eda\", \"variacion\": 24, \"rating\": 1702}, {\"fecha\": \"2018-03-18\", \"donde\": \"218\\u00ba Torneo Atlanta\", \"variacion\": -10, \"rating\": 1692}, {\"fecha\": \"2018-03-25\", \"donde\": \"129\\u00ba Torneo Nichia Gakuin\", \"variacion\": -7, \"rating\": 1685}, {\"fecha\": \"2018-04-06\", \"donde\": \"96\\u00ba Torneo Instituto Compa\\u00f1\\u00eda de Mar\\u00eda\", \"variacion\": 42, \"rating\": 1727}, {\"fecha\": \"2018-05-04\", \"donde\": \"1\\u00ba Torneo San Lorenzo Escuela de Tablones \", \"variacion\": 28, \"rating\": 1755}, {\"fecha\": \"2018-05-13\", \"donde\": \"22\\u00b0 Torneo Monumental River\", \"variacion\": -10, \"rating\": 1745}, {\"fecha\": \"2018-07-08\", \"donde\": \"4\\u00b0 Torneo TMT ProTour Alejandro Gomez \", \"variacion\": 42, \"rating\": 1787}, {\"fecha\": \"2018-12-01\", \"donde\": \"204\\u00b0 Torneo Butterfly Ciudad de Vicente L\\u00f3pez \", \"variacion\": 0, \"rating\": 1787}, {\"fecha\": \"2018-12-23\", \"donde\": \"7\\u00b0 Torneo TMT ProTour Alejandro Gomez \", \"variacion\": -33, \"rating\": 1754}, {\"fecha\": \"2018-12-29\", \"donde\": \"10\\u00b0 Torneo Club F\\u00e9nix sede Parque Chas\", \"variacion\": -11, \"rating\": 1743}, {\"fecha\": \"2019-01-25\", \"donde\": \"224\\u00b0 Torneo Butterfly Ciudad de Vicente L\\u00f3pez \", \"variacion\": -45, \"rating\": 1698}, {\"fecha\": \"2019-02-24\", \"donde\": \"12\\u00b0 Torneo Club F\\u00e9nix sede Parque Chas\", \"variacion\": 9, \"rating\": 1707}, {\"fecha\": \"2019-04-21\", \"donde\": \"95\\u00b0 Torneo Ferrocarril Oeste \\u2013 Butterfly DHS\", \"variacion\": 21, \"rating\": 1728}, {\"fecha\": \"2019-06-29\", \"donde\": \"9\\u00b0 Torneo TMT ProTour Alejandro Gomez \", \"variacion\": 77, \"rating\": 1805}, {\"fecha\": \"2019-09-15\", \"donde\": \"34\\u00b0 Torneo Monumental River\", \"variacion\": -4, \"rating\": 1801}, {\"fecha\": \"2019-11-24\", \"donde\": \"315\\u00b0 Torneo Atlanta\", \"variacion\": 3, \"rating\": 1804}, {\"fecha\": \"2020-01-03\", \"donde\": \"332\\u00b0 Torneo Atlanta\", \"variacion\": -16, \"rating\": 1788}, {\"fecha\": \"2020-01-18\", \"donde\": \"14\\u00b0 Torneo Club F\\u00e9nix sede Parque Chas\", \"variacion\": -1, \"rating\": 1787}, {\"fecha\": \"2020-02-15\", \"donde\": \"15\\u00b0 Torneo Club F\\u00e9nix sede Parque Chas\", \"variacion\": -7, \"rating\": 1780}, {\"fecha\": \"2021-01-18\", \"donde\": \"90\\u00b0 Torneo Estaci\\u00f3n Ping Pong\", \"variacion\": -41, \"rating\": 1739}, {\"fecha\": \"2021-01-23\", \"donde\": \"64\\u00b0 Torneo Nikkei Sede Vicente Lopez \", \"variacion\": 43, \"rating\": 1782}, {\"fecha\": \"2021-01-31\", \"donde\": \"3\\u00b0 Torneo Spin TDM Sede Villa Crespo \", \"variacion\": 2, \"rating\": 1784}, {\"fecha\": \"2021-02-13\", \"donde\": \"16\\u00b0 Torneo Club F\\u00e9nix sede Parque Chas\", \"variacion\": -22, \"rating\": 1762}, {\"fecha\": \"2021-02-16\", \"donde\": \"32\\u00b0 Torneo Club Urquiza\", \"variacion\": 7, \"rating\": 1769}, {\"fecha\": \"2021-02-21\", \"donde\": \"4\\u00b0 Torneo Spin TDM Sede Villa Crespo \", \"variacion\": -1, \"rating\": 1768}, {\"fecha\": \"2021-04-04\", \"donde\": \"1\\u00b0 Torneo Fachenzo Tenis de Mesa\", \"variacion\": 9, \"rating\": 1777}, {\"fecha\": \"2021-08-08\", \"donde\": \"3\\u00b0 Torneo Bar NTE\", \"variacion\": 4, \"rating\": 1781}, {\"fecha\": \"2021-08-16\", \"donde\": \"10\\u00b0 Torneo TMT ProTour Alejandro Gomez \", \"variacion\": 16, \"rating\": 1797}, {\"fecha\": \"2021-09-19\", \"donde\": \"4\\u00b0 Torneo Bar NTE\", \"variacion\": -5, \"rating\": 1792}, {\"fecha\": \"2021-11-27\", \"donde\": \"17\\u00b0 Torneo Club F\\u00e9nix sede Parque Chas\", \"variacion\": 10, \"rating\": 1802}, {\"fecha\": \"2022-01-29\", \"donde\": \"537\\u00b0 Torneo Butterfly Ciudad de Vicente L\\u00f3pez \", \"variacion\": -1, \"rating\": 1801}, {\"fecha\": \"2022-02-06\", \"donde\": \"50\\u00b0 Torneo Alvear Nittaku\", \"variacion\": 3, \"rating\": 1804}, {\"fecha\": \"2022-06-26\", \"donde\": \"513\\u00b0 Torneo Butterfly Ciudad de Vicente L\\u00f3pez \", \"variacion\": -1, \"rating\": 1803}, {\"fecha\": \"2022-07-03\", \"donde\": \"7\\u00b0 Torneo Spin TDM Donic \", \"variacion\": 10, \"rating\": 1813}, {\"fecha\": \"2022-07-10\", \"donde\": \"126\\u00b0 Torneo Ferrocarril Oeste \\u2013 Butterfly DHS\", \"variacion\": 8, \"rating\": 1821}, {\"fecha\": \"2022-07-17\", \"donde\": \"11\\u00b0 Torneo Bar NTE\", \"variacion\": -21, \"rating\": 1800}, {\"fecha\": \"2022-07-30\", \"donde\": \"19\\u00b0 Torneo TMT ProTour Alejandro Gomez \", \"variacion\": 46, \"rating\": 1846}, {\"fecha\": \"2022-08-20\", \"donde\": \"67\\u00b0 Torneo O.H.A. Macabi\", \"variacion\": -15, \"rating\": 1831}, {\"fecha\": \"2022-10-02\", \"donde\": \"14\\u00b0 Torneo Bar NTE\", \"variacion\": 27, \"rating\": 1858}, {\"fecha\": \"2023-02-11\", \"donde\": \"19\\u00b0 Torneo F\\u00e9nix Club Donic\", \"variacion\": 10, \"rating\": 1868}, {\"fecha\": \"2023-02-12\", \"donde\": \"2\\u00b0 Torneo La Vuelta Vicente Lopez \", \"variacion\": -19, \"rating\": 1849}, {\"fecha\": \"2023-02-25\", \"donde\": \"16\\u00b0 Torneo Bar NTE\", \"variacion\": -6, \"rating\": 1843}, {\"fecha\": \"2023-03-19\", \"donde\": \"17\\u00b0 Torneo Bar NTE\", \"variacion\": 1, \"rating\": 1843}, {\"fecha\": \"2023-06-04\", \"donde\": \"11\\u00b0 Torneo Banco Nacion ALMAR\", \"variacion\": -18, \"rating\": 1844}, {\"fecha\": \"2023-06-18\", \"donde\": \"20\\u00b0 Torneo Bar NTE\", \"variacion\": -9, \"rating\": 1826}, {\"fecha\": \"2023-06-20\", \"donde\": \"691\\u00b0 Torneo Butterfly - Ciudad de Vicente L\\u00f3pez\", \"variacion\": 5, \"rating\": 1826}, {\"fecha\": \"2023-07-23\", \"donde\": \"13\\u00b0 Torneo Banco Nacion ALMAR \", \"variacion\": 16, \"rating\": 1822}, {\"fecha\": \"2023-11-18\", \"donde\": \"79\\u00b0 Torneo O.H.A. Macabi\", \"variacion\": 16, \"rating\": 1838}, {\"fecha\": \"2023-01-21\", \"donde\": \"17\\u00b0 Torneo Banco Nacion ALMAR\", \"variacion\": 25, \"rating\": 1854}, {\"fecha\": \"2023-01-27\", \"donde\": \"20\\u00b0 Torneo F\\u00e9nix Club Donic\", \"variacion\": -13, \"rating\": 1879}]}}, {\"mode\": \"vega-lite\"});\n",
       "</script>"
      ],
      "text/plain": [
       "alt.Chart(...)"
      ]
     },
     "execution_count": 11,
     "metadata": {},
     "output_type": "execute_result"
    }
   ],
   "source": [
    "alt.Chart(df).mark_line().encode(\n",
    "  x='fecha:T', \n",
    "  y=alt.Y('rating:Q').scale(zero=False)\n",
    ")"
   ]
  }
 ],
 "metadata": {
  "kernelspec": {
   "display_name": "Python 3 (ipykernel)",
   "language": "python",
   "name": "python3"
  },
  "language_info": {
   "codemirror_mode": {
    "name": "ipython",
    "version": 3
   },
   "file_extension": ".py",
   "mimetype": "text/x-python",
   "name": "python",
   "nbconvert_exporter": "python",
   "pygments_lexer": "ipython3",
   "version": "3.10.13"
  }
 },
 "nbformat": 4,
 "nbformat_minor": 2
}
